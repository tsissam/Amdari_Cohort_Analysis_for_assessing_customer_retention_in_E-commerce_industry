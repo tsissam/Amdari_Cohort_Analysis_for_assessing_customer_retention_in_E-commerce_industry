{
 "cells": [
  {
   "cell_type": "code",
   "execution_count": null,
   "id": "4d9f0722-a68b-48af-ab97-a5dd45a5a358",
   "metadata": {},
   "outputs": [],
   "source": []
  },
  {
   "cell_type": "code",
   "execution_count": null,
   "id": "1dd24cc5-bc86-4b3e-a6c3-4cdbebb549fc",
   "metadata": {},
   "outputs": [],
   "source": [
    "#cohorte Date\n",
    "def get_cohort_date():\n",
    "    df['Cohort_date'] = df.groupby(\"CustomerID\")['InvoiceDate2'].transform('min')\n",
    "    return df['Cohort_date']"
   ]
  },
  {
   "cell_type": "code",
   "execution_count": null,
   "id": "60d26984-1481-430b-84eb-14ded7f18adb",
   "metadata": {},
   "outputs": [],
   "source": [
    "df['Cohort_date'] = get_cohort_date()\n",
    "df"
   ]
  },
  {
   "cell_type": "code",
   "execution_count": null,
   "id": "87a80c6c-38a1-40eb-956c-8b2e11368215",
   "metadata": {},
   "outputs": [],
   "source": [
    "# cohorte index\n",
    "\n",
    "def get_year_and_month():\n",
    "    month = df['InvoiceDate'].dt.month\n",
    "    year = df['InvoiceDate'].dt.year\n",
    "    return month, year"
   ]
  },
  {
   "cell_type": "code",
   "execution_count": null,
   "id": "0d72aab5-6c56-4ae9-bb54-2e7eebd4e808",
   "metadata": {},
   "outputs": [],
   "source": [
    "first_month, first_year = get_year_and_month()"
   ]
  }
 ],
 "metadata": {
  "kernelspec": {
   "display_name": "Python [conda env:base] *",
   "language": "python",
   "name": "conda-base-py"
  },
  "language_info": {
   "codemirror_mode": {
    "name": "ipython",
    "version": 3
   },
   "file_extension": ".py",
   "mimetype": "text/x-python",
   "name": "python",
   "nbconvert_exporter": "python",
   "pygments_lexer": "ipython3",
   "version": "3.12.7"
  }
 },
 "nbformat": 4,
 "nbformat_minor": 5
}
