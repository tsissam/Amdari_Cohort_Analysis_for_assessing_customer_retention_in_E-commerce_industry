{
 "cells": [
  {
   "cell_type": "markdown",
   "id": "528bda90-ded1-489d-be58-ee26b688f819",
   "metadata": {},
   "source": [
    "# Projects -Cohort Analysis for assessing customer retention in E-commerce industry\n",
    "\n",
    "## 02 - Exploratory Data Analysis (EDA) - Sales & Customer Behavior\n",
    "\n",
    "In this notebook, we explore the dataset to better understand:\n",
    "\n",
    "- Overall sales trends over time\n",
    "- Top-selling products\n",
    "- Customer activity and purchasing frequency\n",
    "- Patterns in purchase behavior (quantity, price, time)\n",
    "\n",
    "This will help us identify key insights before moving on to modeling or segmentation."
   ]
  },
  {
   "cell_type": "code",
   "execution_count": null,
   "id": "49ec51a8-50fa-4d7f-9568-7bb50767e5fe",
   "metadata": {},
   "outputs": [],
   "source": []
  }
 ],
 "metadata": {
  "kernelspec": {
   "display_name": "Python [conda env:base] *",
   "language": "python",
   "name": "conda-base-py"
  },
  "language_info": {
   "codemirror_mode": {
    "name": "ipython",
    "version": 3
   },
   "file_extension": ".py",
   "mimetype": "text/x-python",
   "name": "python",
   "nbconvert_exporter": "python",
   "pygments_lexer": "ipython3",
   "version": "3.12.7"
  }
 },
 "nbformat": 4,
 "nbformat_minor": 5
}
