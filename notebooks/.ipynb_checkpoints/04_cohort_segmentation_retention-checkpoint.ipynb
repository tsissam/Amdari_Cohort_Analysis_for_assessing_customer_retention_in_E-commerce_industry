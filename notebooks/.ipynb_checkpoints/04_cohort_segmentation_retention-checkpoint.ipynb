{
 "cells": [
  {
   "cell_type": "markdown",
   "id": "ee4205ec-8b88-4fe3-9e17-cd64186cf399",
   "metadata": {},
   "source": [
    "# Projects -Cohort Analysis for assessing customer retention in E-commerce industry\n",
    "\n",
    "## 04 - Cohort Analysis - cohort segmentation retention\n",
    "\n",
    "Why do Cohort Analysis?<br>\n",
    "• Understand customer retention over time.<br>\n",
    "• See how many customers come back after their first purchase.<br>\n",
    "• Check if newer customers behave better or worse than older ones.<br>\n",
    "• Identify customer churn problems or marketing successes."
   ]
  },
  {
   "cell_type": "code",
   "execution_count": null,
   "id": "e6caa3ad-ffe2-4da8-a23c-bb071b8d4945",
   "metadata": {},
   "outputs": [],
   "source": []
  }
 ],
 "metadata": {
  "kernelspec": {
   "display_name": "Python [conda env:base] *",
   "language": "python",
   "name": "conda-base-py"
  },
  "language_info": {
   "codemirror_mode": {
    "name": "ipython",
    "version": 3
   },
   "file_extension": ".py",
   "mimetype": "text/x-python",
   "name": "python",
   "nbconvert_exporter": "python",
   "pygments_lexer": "ipython3",
   "version": "3.12.7"
  }
 },
 "nbformat": 4,
 "nbformat_minor": 5
}
